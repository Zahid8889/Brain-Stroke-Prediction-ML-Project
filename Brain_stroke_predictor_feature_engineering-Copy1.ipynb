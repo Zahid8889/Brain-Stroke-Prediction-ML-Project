{
 "cells": [
  {
   "cell_type": "markdown",
   "id": "eb5cc22f",
   "metadata": {},
   "source": [
    "# Feature Engineering"
   ]
  },
  {
   "cell_type": "markdown",
   "id": "f11791e0",
   "metadata": {},
   "source": [
    "#### from Eda of the dataset we will be doing following Operations  \n",
    "- 1. handle categorical values\n",
    "- 2. standarize the values to the same range"
   ]
  },
  {
   "cell_type": "code",
   "execution_count": 1,
   "id": "55577a57",
   "metadata": {},
   "outputs": [],
   "source": [
    "import numpy as np\n",
    "import pandas as pd\n",
    "import seaborn as sns\n",
    "import matplotlib.pyplot as plt\n",
    "%matplotlib inline\n",
    "pd.set_option('display.max_columns',None)"
   ]
  },
  {
   "cell_type": "code",
   "execution_count": 2,
   "id": "3ffa686e",
   "metadata": {},
   "outputs": [
    {
     "data": {
      "text/html": [
       "<div>\n",
       "<style scoped>\n",
       "    .dataframe tbody tr th:only-of-type {\n",
       "        vertical-align: middle;\n",
       "    }\n",
       "\n",
       "    .dataframe tbody tr th {\n",
       "        vertical-align: top;\n",
       "    }\n",
       "\n",
       "    .dataframe thead th {\n",
       "        text-align: right;\n",
       "    }\n",
       "</style>\n",
       "<table border=\"1\" class=\"dataframe\">\n",
       "  <thead>\n",
       "    <tr style=\"text-align: right;\">\n",
       "      <th></th>\n",
       "      <th>gender</th>\n",
       "      <th>age</th>\n",
       "      <th>hypertension</th>\n",
       "      <th>heart_disease</th>\n",
       "      <th>ever_married</th>\n",
       "      <th>work_type</th>\n",
       "      <th>Residence_type</th>\n",
       "      <th>avg_glucose_level</th>\n",
       "      <th>bmi</th>\n",
       "      <th>smoking_status</th>\n",
       "      <th>stroke</th>\n",
       "    </tr>\n",
       "  </thead>\n",
       "  <tbody>\n",
       "    <tr>\n",
       "      <th>0</th>\n",
       "      <td>Male</td>\n",
       "      <td>67.0</td>\n",
       "      <td>0</td>\n",
       "      <td>1</td>\n",
       "      <td>Yes</td>\n",
       "      <td>Private</td>\n",
       "      <td>Urban</td>\n",
       "      <td>228.69</td>\n",
       "      <td>36.6</td>\n",
       "      <td>formerly smoked</td>\n",
       "      <td>1</td>\n",
       "    </tr>\n",
       "    <tr>\n",
       "      <th>1</th>\n",
       "      <td>Male</td>\n",
       "      <td>80.0</td>\n",
       "      <td>0</td>\n",
       "      <td>1</td>\n",
       "      <td>Yes</td>\n",
       "      <td>Private</td>\n",
       "      <td>Rural</td>\n",
       "      <td>105.92</td>\n",
       "      <td>32.5</td>\n",
       "      <td>never smoked</td>\n",
       "      <td>1</td>\n",
       "    </tr>\n",
       "    <tr>\n",
       "      <th>2</th>\n",
       "      <td>Female</td>\n",
       "      <td>49.0</td>\n",
       "      <td>0</td>\n",
       "      <td>0</td>\n",
       "      <td>Yes</td>\n",
       "      <td>Private</td>\n",
       "      <td>Urban</td>\n",
       "      <td>171.23</td>\n",
       "      <td>34.4</td>\n",
       "      <td>smokes</td>\n",
       "      <td>1</td>\n",
       "    </tr>\n",
       "    <tr>\n",
       "      <th>3</th>\n",
       "      <td>Female</td>\n",
       "      <td>79.0</td>\n",
       "      <td>1</td>\n",
       "      <td>0</td>\n",
       "      <td>Yes</td>\n",
       "      <td>Self-employed</td>\n",
       "      <td>Rural</td>\n",
       "      <td>174.12</td>\n",
       "      <td>24.0</td>\n",
       "      <td>never smoked</td>\n",
       "      <td>1</td>\n",
       "    </tr>\n",
       "    <tr>\n",
       "      <th>4</th>\n",
       "      <td>Male</td>\n",
       "      <td>81.0</td>\n",
       "      <td>0</td>\n",
       "      <td>0</td>\n",
       "      <td>Yes</td>\n",
       "      <td>Private</td>\n",
       "      <td>Urban</td>\n",
       "      <td>186.21</td>\n",
       "      <td>29.0</td>\n",
       "      <td>formerly smoked</td>\n",
       "      <td>1</td>\n",
       "    </tr>\n",
       "  </tbody>\n",
       "</table>\n",
       "</div>"
      ],
      "text/plain": [
       "   gender   age  hypertension  heart_disease ever_married      work_type  \\\n",
       "0    Male  67.0             0              1          Yes        Private   \n",
       "1    Male  80.0             0              1          Yes        Private   \n",
       "2  Female  49.0             0              0          Yes        Private   \n",
       "3  Female  79.0             1              0          Yes  Self-employed   \n",
       "4    Male  81.0             0              0          Yes        Private   \n",
       "\n",
       "  Residence_type  avg_glucose_level   bmi   smoking_status  stroke  \n",
       "0          Urban             228.69  36.6  formerly smoked       1  \n",
       "1          Rural             105.92  32.5     never smoked       1  \n",
       "2          Urban             171.23  34.4           smokes       1  \n",
       "3          Rural             174.12  24.0     never smoked       1  \n",
       "4          Urban             186.21  29.0  formerly smoked       1  "
      ]
     },
     "execution_count": 2,
     "metadata": {},
     "output_type": "execute_result"
    }
   ],
   "source": [
    "data=pd.read_csv('full_data.csv')\n",
    "data.head()"
   ]
  },
  {
   "cell_type": "code",
   "execution_count": 3,
   "id": "79c24190",
   "metadata": {},
   "outputs": [
    {
     "data": {
      "text/plain": [
       "(4981, 11)"
      ]
     },
     "execution_count": 3,
     "metadata": {},
     "output_type": "execute_result"
    }
   ],
   "source": [
    "data.shape"
   ]
  },
  {
   "cell_type": "markdown",
   "id": "ed943477",
   "metadata": {},
   "source": [
    "- First we will split the data for training and testing"
   ]
  },
  {
   "cell_type": "code",
   "execution_count": 4,
   "id": "aa8ffdaf",
   "metadata": {},
   "outputs": [],
   "source": [
    "from sklearn.model_selection import train_test_split\n",
    "X_train,X_test,y_train,y_test=train_test_split(data,data['stroke'],test_size=0.1,random_state=1)"
   ]
  },
  {
   "cell_type": "code",
   "execution_count": 5,
   "id": "02783528",
   "metadata": {},
   "outputs": [
    {
     "data": {
      "text/plain": [
       "((4482, 11), (499, 11), (4482,), (499,))"
      ]
     },
     "execution_count": 5,
     "metadata": {},
     "output_type": "execute_result"
    }
   ],
   "source": [
    "X_train.shape,X_test.shape,y_train.shape,y_test.shape"
   ]
  },
  {
   "cell_type": "code",
   "execution_count": 6,
   "id": "8c728692",
   "metadata": {},
   "outputs": [],
   "source": [
    "# pip install imblearn"
   ]
  },
  {
   "cell_type": "code",
   "execution_count": 7,
   "id": "df062d77",
   "metadata": {},
   "outputs": [],
   "source": [
    "X_train=X_train.reset_index(drop=True)\n",
    "X_test=X_test.reset_index(drop=True)\n",
    "y_train=y_train.reset_index(drop=True)\n",
    "y_test=y_test.reset_index(drop=True)"
   ]
  },
  {
   "cell_type": "code",
   "execution_count": 8,
   "id": "0d167bb8",
   "metadata": {},
   "outputs": [
    {
     "name": "stdout",
     "output_type": "stream",
     "text": [
      "Categ : ['gender', 'ever_married', 'work_type', 'Residence_type', 'smoking_status']\n",
      "nume : ['age', 'hypertension', 'heart_disease', 'avg_glucose_level', 'bmi']\n"
     ]
    }
   ],
   "source": [
    "categorical_feature=[feature for feature in data.columns if data[feature].dtype=='O']\n",
    "numerical_feature=[feature for feature in data.columns if data[feature].dtype!='O' and feature!='stroke']\n",
    "print('Categ :',categorical_feature)\n",
    "print('nume :',numerical_feature)"
   ]
  },
  {
   "cell_type": "code",
   "execution_count": 9,
   "id": "c435e6b4",
   "metadata": {},
   "outputs": [],
   "source": [
    "for feature in categorical_feature:\n",
    "    train_dummy=pd.get_dummies(X_train[feature])\n",
    "    X_train=pd.concat([X_train,train_dummy],axis=1)\n",
    "    test_dummy=pd.get_dummies(X_test[feature])\n",
    "    X_test=pd.concat([X_test,test_dummy],axis=1)\n",
    "    X_train=X_train.drop(feature,axis='columns')\n",
    "    X_test=X_test.drop(feature,axis='columns')"
   ]
  },
  {
   "cell_type": "code",
   "execution_count": 10,
   "id": "c01ce8dc",
   "metadata": {
    "scrolled": true
   },
   "outputs": [
    {
     "data": {
      "text/html": [
       "<div>\n",
       "<style scoped>\n",
       "    .dataframe tbody tr th:only-of-type {\n",
       "        vertical-align: middle;\n",
       "    }\n",
       "\n",
       "    .dataframe tbody tr th {\n",
       "        vertical-align: top;\n",
       "    }\n",
       "\n",
       "    .dataframe thead th {\n",
       "        text-align: right;\n",
       "    }\n",
       "</style>\n",
       "<table border=\"1\" class=\"dataframe\">\n",
       "  <thead>\n",
       "    <tr style=\"text-align: right;\">\n",
       "      <th></th>\n",
       "      <th>age</th>\n",
       "      <th>hypertension</th>\n",
       "      <th>heart_disease</th>\n",
       "      <th>avg_glucose_level</th>\n",
       "      <th>bmi</th>\n",
       "      <th>stroke</th>\n",
       "      <th>Female</th>\n",
       "      <th>Male</th>\n",
       "      <th>No</th>\n",
       "      <th>Yes</th>\n",
       "      <th>Govt_job</th>\n",
       "      <th>Private</th>\n",
       "      <th>Self-employed</th>\n",
       "      <th>children</th>\n",
       "      <th>Rural</th>\n",
       "      <th>Urban</th>\n",
       "      <th>Unknown</th>\n",
       "      <th>formerly smoked</th>\n",
       "      <th>never smoked</th>\n",
       "      <th>smokes</th>\n",
       "    </tr>\n",
       "  </thead>\n",
       "  <tbody>\n",
       "    <tr>\n",
       "      <th>0</th>\n",
       "      <td>31.0</td>\n",
       "      <td>0</td>\n",
       "      <td>0</td>\n",
       "      <td>108.62</td>\n",
       "      <td>29.2</td>\n",
       "      <td>0</td>\n",
       "      <td>0</td>\n",
       "      <td>1</td>\n",
       "      <td>0</td>\n",
       "      <td>1</td>\n",
       "      <td>0</td>\n",
       "      <td>1</td>\n",
       "      <td>0</td>\n",
       "      <td>0</td>\n",
       "      <td>0</td>\n",
       "      <td>1</td>\n",
       "      <td>0</td>\n",
       "      <td>0</td>\n",
       "      <td>0</td>\n",
       "      <td>1</td>\n",
       "    </tr>\n",
       "    <tr>\n",
       "      <th>1</th>\n",
       "      <td>66.0</td>\n",
       "      <td>0</td>\n",
       "      <td>1</td>\n",
       "      <td>94.62</td>\n",
       "      <td>29.7</td>\n",
       "      <td>0</td>\n",
       "      <td>1</td>\n",
       "      <td>0</td>\n",
       "      <td>0</td>\n",
       "      <td>1</td>\n",
       "      <td>0</td>\n",
       "      <td>1</td>\n",
       "      <td>0</td>\n",
       "      <td>0</td>\n",
       "      <td>0</td>\n",
       "      <td>1</td>\n",
       "      <td>0</td>\n",
       "      <td>1</td>\n",
       "      <td>0</td>\n",
       "      <td>0</td>\n",
       "    </tr>\n",
       "    <tr>\n",
       "      <th>2</th>\n",
       "      <td>68.0</td>\n",
       "      <td>0</td>\n",
       "      <td>0</td>\n",
       "      <td>222.58</td>\n",
       "      <td>37.4</td>\n",
       "      <td>0</td>\n",
       "      <td>1</td>\n",
       "      <td>0</td>\n",
       "      <td>0</td>\n",
       "      <td>1</td>\n",
       "      <td>0</td>\n",
       "      <td>0</td>\n",
       "      <td>1</td>\n",
       "      <td>0</td>\n",
       "      <td>0</td>\n",
       "      <td>1</td>\n",
       "      <td>0</td>\n",
       "      <td>0</td>\n",
       "      <td>0</td>\n",
       "      <td>1</td>\n",
       "    </tr>\n",
       "    <tr>\n",
       "      <th>3</th>\n",
       "      <td>45.0</td>\n",
       "      <td>0</td>\n",
       "      <td>0</td>\n",
       "      <td>79.47</td>\n",
       "      <td>28.1</td>\n",
       "      <td>0</td>\n",
       "      <td>1</td>\n",
       "      <td>0</td>\n",
       "      <td>0</td>\n",
       "      <td>1</td>\n",
       "      <td>1</td>\n",
       "      <td>0</td>\n",
       "      <td>0</td>\n",
       "      <td>0</td>\n",
       "      <td>0</td>\n",
       "      <td>1</td>\n",
       "      <td>0</td>\n",
       "      <td>0</td>\n",
       "      <td>1</td>\n",
       "      <td>0</td>\n",
       "    </tr>\n",
       "    <tr>\n",
       "      <th>4</th>\n",
       "      <td>77.0</td>\n",
       "      <td>0</td>\n",
       "      <td>0</td>\n",
       "      <td>93.48</td>\n",
       "      <td>25.2</td>\n",
       "      <td>0</td>\n",
       "      <td>1</td>\n",
       "      <td>0</td>\n",
       "      <td>0</td>\n",
       "      <td>1</td>\n",
       "      <td>0</td>\n",
       "      <td>1</td>\n",
       "      <td>0</td>\n",
       "      <td>0</td>\n",
       "      <td>1</td>\n",
       "      <td>0</td>\n",
       "      <td>0</td>\n",
       "      <td>1</td>\n",
       "      <td>0</td>\n",
       "      <td>0</td>\n",
       "    </tr>\n",
       "  </tbody>\n",
       "</table>\n",
       "</div>"
      ],
      "text/plain": [
       "    age  hypertension  heart_disease  avg_glucose_level   bmi  stroke  Female  \\\n",
       "0  31.0             0              0             108.62  29.2       0       0   \n",
       "1  66.0             0              1              94.62  29.7       0       1   \n",
       "2  68.0             0              0             222.58  37.4       0       1   \n",
       "3  45.0             0              0              79.47  28.1       0       1   \n",
       "4  77.0             0              0              93.48  25.2       0       1   \n",
       "\n",
       "   Male  No  Yes  Govt_job  Private  Self-employed  children  Rural  Urban  \\\n",
       "0     1   0    1         0        1              0         0      0      1   \n",
       "1     0   0    1         0        1              0         0      0      1   \n",
       "2     0   0    1         0        0              1         0      0      1   \n",
       "3     0   0    1         1        0              0         0      0      1   \n",
       "4     0   0    1         0        1              0         0      1      0   \n",
       "\n",
       "   Unknown  formerly smoked  never smoked  smokes  \n",
       "0        0                0             0       1  \n",
       "1        0                1             0       0  \n",
       "2        0                0             0       1  \n",
       "3        0                0             1       0  \n",
       "4        0                1             0       0  "
      ]
     },
     "execution_count": 10,
     "metadata": {},
     "output_type": "execute_result"
    }
   ],
   "source": [
    "X_train.head()"
   ]
  },
  {
   "cell_type": "code",
   "execution_count": 11,
   "id": "d587fcfe",
   "metadata": {
    "scrolled": true
   },
   "outputs": [
    {
     "data": {
      "text/plain": [
       "0    4257\n",
       "1     225\n",
       "Name: stroke, dtype: int64"
      ]
     },
     "execution_count": 11,
     "metadata": {},
     "output_type": "execute_result"
    }
   ],
   "source": [
    "y_train.value_counts()"
   ]
  },
  {
   "cell_type": "code",
   "execution_count": 12,
   "id": "22cc353e",
   "metadata": {},
   "outputs": [],
   "source": [
    "from imblearn.over_sampling import SMOTE\n"
   ]
  },
  {
   "cell_type": "code",
   "execution_count": 13,
   "id": "b790b7e8",
   "metadata": {},
   "outputs": [],
   "source": [
    "smote=SMOTE()"
   ]
  },
  {
   "cell_type": "code",
   "execution_count": 14,
   "id": "b566f33c",
   "metadata": {},
   "outputs": [],
   "source": [
    "X_train_smote,y_train_smote=smote.fit_resample(X_train,y_train)"
   ]
  },
  {
   "cell_type": "code",
   "execution_count": 15,
   "id": "fee159ca",
   "metadata": {},
   "outputs": [
    {
     "data": {
      "text/plain": [
       "((8514, 20), (8514,))"
      ]
     },
     "execution_count": 15,
     "metadata": {},
     "output_type": "execute_result"
    }
   ],
   "source": [
    "X_train_smote.shape,y_train_smote.shape"
   ]
  },
  {
   "cell_type": "code",
   "execution_count": 16,
   "id": "3a88d8b3",
   "metadata": {},
   "outputs": [
    {
     "data": {
      "text/plain": [
       "0    4257\n",
       "1    4257\n",
       "Name: stroke, dtype: int64"
      ]
     },
     "execution_count": 16,
     "metadata": {},
     "output_type": "execute_result"
    }
   ],
   "source": [
    "y_train_smote.value_counts()"
   ]
  },
  {
   "cell_type": "code",
   "execution_count": 17,
   "id": "05b570c2",
   "metadata": {},
   "outputs": [],
   "source": [
    "X_train = X_train_smote\n",
    "y_train = y_train_smote"
   ]
  },
  {
   "cell_type": "code",
   "execution_count": 18,
   "id": "388657ad",
   "metadata": {},
   "outputs": [
    {
     "data": {
      "text/html": [
       "<div>\n",
       "<style scoped>\n",
       "    .dataframe tbody tr th:only-of-type {\n",
       "        vertical-align: middle;\n",
       "    }\n",
       "\n",
       "    .dataframe tbody tr th {\n",
       "        vertical-align: top;\n",
       "    }\n",
       "\n",
       "    .dataframe thead th {\n",
       "        text-align: right;\n",
       "    }\n",
       "</style>\n",
       "<table border=\"1\" class=\"dataframe\">\n",
       "  <thead>\n",
       "    <tr style=\"text-align: right;\">\n",
       "      <th></th>\n",
       "      <th>age</th>\n",
       "      <th>hypertension</th>\n",
       "      <th>heart_disease</th>\n",
       "      <th>avg_glucose_level</th>\n",
       "      <th>bmi</th>\n",
       "      <th>stroke</th>\n",
       "      <th>Female</th>\n",
       "      <th>Male</th>\n",
       "      <th>No</th>\n",
       "      <th>Yes</th>\n",
       "      <th>Govt_job</th>\n",
       "      <th>Private</th>\n",
       "      <th>Self-employed</th>\n",
       "      <th>children</th>\n",
       "      <th>Rural</th>\n",
       "      <th>Urban</th>\n",
       "      <th>Unknown</th>\n",
       "      <th>formerly smoked</th>\n",
       "      <th>never smoked</th>\n",
       "      <th>smokes</th>\n",
       "      <th>stroke</th>\n",
       "    </tr>\n",
       "  </thead>\n",
       "  <tbody>\n",
       "    <tr>\n",
       "      <th>0</th>\n",
       "      <td>31.0</td>\n",
       "      <td>0</td>\n",
       "      <td>0</td>\n",
       "      <td>108.62</td>\n",
       "      <td>29.2</td>\n",
       "      <td>0</td>\n",
       "      <td>0</td>\n",
       "      <td>1</td>\n",
       "      <td>0</td>\n",
       "      <td>1</td>\n",
       "      <td>0</td>\n",
       "      <td>1</td>\n",
       "      <td>0</td>\n",
       "      <td>0</td>\n",
       "      <td>0</td>\n",
       "      <td>1</td>\n",
       "      <td>0</td>\n",
       "      <td>0</td>\n",
       "      <td>0</td>\n",
       "      <td>1</td>\n",
       "      <td>0</td>\n",
       "    </tr>\n",
       "    <tr>\n",
       "      <th>1</th>\n",
       "      <td>66.0</td>\n",
       "      <td>0</td>\n",
       "      <td>1</td>\n",
       "      <td>94.62</td>\n",
       "      <td>29.7</td>\n",
       "      <td>0</td>\n",
       "      <td>1</td>\n",
       "      <td>0</td>\n",
       "      <td>0</td>\n",
       "      <td>1</td>\n",
       "      <td>0</td>\n",
       "      <td>1</td>\n",
       "      <td>0</td>\n",
       "      <td>0</td>\n",
       "      <td>0</td>\n",
       "      <td>1</td>\n",
       "      <td>0</td>\n",
       "      <td>1</td>\n",
       "      <td>0</td>\n",
       "      <td>0</td>\n",
       "      <td>0</td>\n",
       "    </tr>\n",
       "    <tr>\n",
       "      <th>2</th>\n",
       "      <td>68.0</td>\n",
       "      <td>0</td>\n",
       "      <td>0</td>\n",
       "      <td>222.58</td>\n",
       "      <td>37.4</td>\n",
       "      <td>0</td>\n",
       "      <td>1</td>\n",
       "      <td>0</td>\n",
       "      <td>0</td>\n",
       "      <td>1</td>\n",
       "      <td>0</td>\n",
       "      <td>0</td>\n",
       "      <td>1</td>\n",
       "      <td>0</td>\n",
       "      <td>0</td>\n",
       "      <td>1</td>\n",
       "      <td>0</td>\n",
       "      <td>0</td>\n",
       "      <td>0</td>\n",
       "      <td>1</td>\n",
       "      <td>0</td>\n",
       "    </tr>\n",
       "    <tr>\n",
       "      <th>3</th>\n",
       "      <td>45.0</td>\n",
       "      <td>0</td>\n",
       "      <td>0</td>\n",
       "      <td>79.47</td>\n",
       "      <td>28.1</td>\n",
       "      <td>0</td>\n",
       "      <td>1</td>\n",
       "      <td>0</td>\n",
       "      <td>0</td>\n",
       "      <td>1</td>\n",
       "      <td>1</td>\n",
       "      <td>0</td>\n",
       "      <td>0</td>\n",
       "      <td>0</td>\n",
       "      <td>0</td>\n",
       "      <td>1</td>\n",
       "      <td>0</td>\n",
       "      <td>0</td>\n",
       "      <td>1</td>\n",
       "      <td>0</td>\n",
       "      <td>0</td>\n",
       "    </tr>\n",
       "    <tr>\n",
       "      <th>4</th>\n",
       "      <td>77.0</td>\n",
       "      <td>0</td>\n",
       "      <td>0</td>\n",
       "      <td>93.48</td>\n",
       "      <td>25.2</td>\n",
       "      <td>0</td>\n",
       "      <td>1</td>\n",
       "      <td>0</td>\n",
       "      <td>0</td>\n",
       "      <td>1</td>\n",
       "      <td>0</td>\n",
       "      <td>1</td>\n",
       "      <td>0</td>\n",
       "      <td>0</td>\n",
       "      <td>1</td>\n",
       "      <td>0</td>\n",
       "      <td>0</td>\n",
       "      <td>1</td>\n",
       "      <td>0</td>\n",
       "      <td>0</td>\n",
       "      <td>0</td>\n",
       "    </tr>\n",
       "  </tbody>\n",
       "</table>\n",
       "</div>"
      ],
      "text/plain": [
       "    age  hypertension  heart_disease  avg_glucose_level   bmi  stroke  Female  \\\n",
       "0  31.0             0              0             108.62  29.2       0       0   \n",
       "1  66.0             0              1              94.62  29.7       0       1   \n",
       "2  68.0             0              0             222.58  37.4       0       1   \n",
       "3  45.0             0              0              79.47  28.1       0       1   \n",
       "4  77.0             0              0              93.48  25.2       0       1   \n",
       "\n",
       "   Male  No  Yes  Govt_job  Private  Self-employed  children  Rural  Urban  \\\n",
       "0     1   0    1         0        1              0         0      0      1   \n",
       "1     0   0    1         0        1              0         0      0      1   \n",
       "2     0   0    1         0        0              1         0      0      1   \n",
       "3     0   0    1         1        0              0         0      0      1   \n",
       "4     0   0    1         0        1              0         0      1      0   \n",
       "\n",
       "   Unknown  formerly smoked  never smoked  smokes  stroke  \n",
       "0        0                0             0       1       0  \n",
       "1        0                1             0       0       0  \n",
       "2        0                0             0       1       0  \n",
       "3        0                0             1       0       0  \n",
       "4        0                1             0       0       0  "
      ]
     },
     "execution_count": 18,
     "metadata": {},
     "output_type": "execute_result"
    }
   ],
   "source": [
    "X=pd.concat([X_train,y_train],axis=1)\n",
    "X.head()"
   ]
  },
  {
   "cell_type": "code",
   "execution_count": 20,
   "id": "809c90e5",
   "metadata": {},
   "outputs": [],
   "source": [
    "# sns.pairplot(X,hue='stroke')\n",
    "# X.columns"
   ]
  },
  {
   "cell_type": "code",
   "execution_count": null,
   "id": "b4c67f32",
   "metadata": {},
   "outputs": [],
   "source": []
  },
  {
   "cell_type": "code",
   "execution_count": 21,
   "id": "077d9a8c",
   "metadata": {
    "scrolled": true
   },
   "outputs": [
    {
     "data": {
      "text/html": [
       "<div>\n",
       "<style scoped>\n",
       "    .dataframe tbody tr th:only-of-type {\n",
       "        vertical-align: middle;\n",
       "    }\n",
       "\n",
       "    .dataframe tbody tr th {\n",
       "        vertical-align: top;\n",
       "    }\n",
       "\n",
       "    .dataframe thead th {\n",
       "        text-align: right;\n",
       "    }\n",
       "</style>\n",
       "<table border=\"1\" class=\"dataframe\">\n",
       "  <thead>\n",
       "    <tr style=\"text-align: right;\">\n",
       "      <th></th>\n",
       "      <th>age</th>\n",
       "      <th>hypertension</th>\n",
       "      <th>heart_disease</th>\n",
       "      <th>avg_glucose_level</th>\n",
       "      <th>bmi</th>\n",
       "      <th>stroke</th>\n",
       "      <th>Female</th>\n",
       "      <th>Male</th>\n",
       "      <th>No</th>\n",
       "      <th>Yes</th>\n",
       "      <th>Govt_job</th>\n",
       "      <th>Private</th>\n",
       "      <th>Self-employed</th>\n",
       "      <th>children</th>\n",
       "      <th>Rural</th>\n",
       "      <th>Urban</th>\n",
       "      <th>Unknown</th>\n",
       "      <th>formerly smoked</th>\n",
       "      <th>never smoked</th>\n",
       "      <th>smokes</th>\n",
       "    </tr>\n",
       "  </thead>\n",
       "  <tbody>\n",
       "    <tr>\n",
       "      <th>age</th>\n",
       "      <td>1.000000</td>\n",
       "      <td>0.141962</td>\n",
       "      <td>0.137189</td>\n",
       "      <td>0.264680</td>\n",
       "      <td>0.245217</td>\n",
       "      <td>0.581984</td>\n",
       "      <td>-0.131731</td>\n",
       "      <td>-0.128717</td>\n",
       "      <td>-0.675449</td>\n",
       "      <td>0.476777</td>\n",
       "      <td>-0.033807</td>\n",
       "      <td>-0.055408</td>\n",
       "      <td>0.144592</td>\n",
       "      <td>-0.609351</td>\n",
       "      <td>-0.150562</td>\n",
       "      <td>-0.081697</td>\n",
       "      <td>-0.440443</td>\n",
       "      <td>0.075806</td>\n",
       "      <td>-0.055514</td>\n",
       "      <td>-0.085683</td>\n",
       "    </tr>\n",
       "    <tr>\n",
       "      <th>hypertension</th>\n",
       "      <td>0.141962</td>\n",
       "      <td>1.000000</td>\n",
       "      <td>0.049925</td>\n",
       "      <td>0.083141</td>\n",
       "      <td>0.120390</td>\n",
       "      <td>-0.037154</td>\n",
       "      <td>0.006381</td>\n",
       "      <td>0.033449</td>\n",
       "      <td>-0.083021</td>\n",
       "      <td>0.084384</td>\n",
       "      <td>0.026425</td>\n",
       "      <td>-0.002295</td>\n",
       "      <td>0.129165</td>\n",
       "      <td>-0.081208</td>\n",
       "      <td>0.048155</td>\n",
       "      <td>-0.013269</td>\n",
       "      <td>-0.085296</td>\n",
       "      <td>0.018864</td>\n",
       "      <td>0.106961</td>\n",
       "      <td>0.036536</td>\n",
       "    </tr>\n",
       "    <tr>\n",
       "      <th>heart_disease</th>\n",
       "      <td>0.137189</td>\n",
       "      <td>0.049925</td>\n",
       "      <td>1.000000</td>\n",
       "      <td>0.169629</td>\n",
       "      <td>0.059207</td>\n",
       "      <td>-0.002184</td>\n",
       "      <td>-0.079523</td>\n",
       "      <td>0.092996</td>\n",
       "      <td>-0.065831</td>\n",
       "      <td>0.049782</td>\n",
       "      <td>0.030216</td>\n",
       "      <td>0.012722</td>\n",
       "      <td>0.052886</td>\n",
       "      <td>-0.060859</td>\n",
       "      <td>-0.006802</td>\n",
       "      <td>0.026396</td>\n",
       "      <td>-0.009166</td>\n",
       "      <td>0.045343</td>\n",
       "      <td>-0.012151</td>\n",
       "      <td>0.041458</td>\n",
       "    </tr>\n",
       "    <tr>\n",
       "      <th>avg_glucose_level</th>\n",
       "      <td>0.264680</td>\n",
       "      <td>0.083141</td>\n",
       "      <td>0.169629</td>\n",
       "      <td>1.000000</td>\n",
       "      <td>0.292052</td>\n",
       "      <td>0.244363</td>\n",
       "      <td>-0.180378</td>\n",
       "      <td>0.038297</td>\n",
       "      <td>-0.187830</td>\n",
       "      <td>0.196341</td>\n",
       "      <td>-0.042649</td>\n",
       "      <td>0.010310</td>\n",
       "      <td>-0.036906</td>\n",
       "      <td>-0.124389</td>\n",
       "      <td>-0.082251</td>\n",
       "      <td>-0.028368</td>\n",
       "      <td>-0.118641</td>\n",
       "      <td>0.013682</td>\n",
       "      <td>-0.050547</td>\n",
       "      <td>-0.044232</td>\n",
       "    </tr>\n",
       "    <tr>\n",
       "      <th>bmi</th>\n",
       "      <td>0.245217</td>\n",
       "      <td>0.120390</td>\n",
       "      <td>0.059207</td>\n",
       "      <td>0.292052</td>\n",
       "      <td>1.000000</td>\n",
       "      <td>0.140845</td>\n",
       "      <td>-0.082749</td>\n",
       "      <td>0.012664</td>\n",
       "      <td>-0.331231</td>\n",
       "      <td>0.268094</td>\n",
       "      <td>0.031535</td>\n",
       "      <td>0.150059</td>\n",
       "      <td>0.036414</td>\n",
       "      <td>-0.422691</td>\n",
       "      <td>-0.069255</td>\n",
       "      <td>-0.018894</td>\n",
       "      <td>-0.256328</td>\n",
       "      <td>0.080687</td>\n",
       "      <td>0.045865</td>\n",
       "      <td>0.060685</td>\n",
       "    </tr>\n",
       "    <tr>\n",
       "      <th>stroke</th>\n",
       "      <td>0.581984</td>\n",
       "      <td>-0.037154</td>\n",
       "      <td>-0.002184</td>\n",
       "      <td>0.244363</td>\n",
       "      <td>0.140845</td>\n",
       "      <td>1.000000</td>\n",
       "      <td>-0.258254</td>\n",
       "      <td>-0.176730</td>\n",
       "      <td>-0.425583</td>\n",
       "      <td>0.171582</td>\n",
       "      <td>-0.212097</td>\n",
       "      <td>-0.160701</td>\n",
       "      <td>-0.134869</td>\n",
       "      <td>-0.272180</td>\n",
       "      <td>-0.262670</td>\n",
       "      <td>-0.178345</td>\n",
       "      <td>-0.333058</td>\n",
       "      <td>-0.110864</td>\n",
       "      <td>-0.257500</td>\n",
       "      <td>-0.181953</td>\n",
       "    </tr>\n",
       "    <tr>\n",
       "      <th>Female</th>\n",
       "      <td>-0.131731</td>\n",
       "      <td>0.006381</td>\n",
       "      <td>-0.079523</td>\n",
       "      <td>-0.180378</td>\n",
       "      <td>-0.082749</td>\n",
       "      <td>-0.258254</td>\n",
       "      <td>1.000000</td>\n",
       "      <td>-0.645714</td>\n",
       "      <td>0.116489</td>\n",
       "      <td>-0.081564</td>\n",
       "      <td>0.082137</td>\n",
       "      <td>0.026255</td>\n",
       "      <td>0.057753</td>\n",
       "      <td>0.019033</td>\n",
       "      <td>0.096643</td>\n",
       "      <td>0.044196</td>\n",
       "      <td>0.046571</td>\n",
       "      <td>-0.031065</td>\n",
       "      <td>0.160925</td>\n",
       "      <td>0.024729</td>\n",
       "    </tr>\n",
       "    <tr>\n",
       "      <th>Male</th>\n",
       "      <td>-0.128717</td>\n",
       "      <td>0.033449</td>\n",
       "      <td>0.092996</td>\n",
       "      <td>0.038297</td>\n",
       "      <td>0.012664</td>\n",
       "      <td>-0.176730</td>\n",
       "      <td>-0.645714</td>\n",
       "      <td>1.000000</td>\n",
       "      <td>0.085210</td>\n",
       "      <td>-0.007841</td>\n",
       "      <td>0.030551</td>\n",
       "      <td>0.066044</td>\n",
       "      <td>0.017961</td>\n",
       "      <td>0.105138</td>\n",
       "      <td>0.033011</td>\n",
       "      <td>0.016217</td>\n",
       "      <td>0.118497</td>\n",
       "      <td>0.093129</td>\n",
       "      <td>-0.034406</td>\n",
       "      <td>0.050498</td>\n",
       "    </tr>\n",
       "    <tr>\n",
       "      <th>No</th>\n",
       "      <td>-0.675449</td>\n",
       "      <td>-0.083021</td>\n",
       "      <td>-0.065831</td>\n",
       "      <td>-0.187830</td>\n",
       "      <td>-0.331231</td>\n",
       "      <td>-0.425583</td>\n",
       "      <td>0.116489</td>\n",
       "      <td>0.085210</td>\n",
       "      <td>1.000000</td>\n",
       "      <td>-0.776134</td>\n",
       "      <td>-0.021512</td>\n",
       "      <td>-0.015451</td>\n",
       "      <td>-0.076311</td>\n",
       "      <td>0.583289</td>\n",
       "      <td>0.121262</td>\n",
       "      <td>0.075160</td>\n",
       "      <td>0.396948</td>\n",
       "      <td>-0.068124</td>\n",
       "      <td>0.038255</td>\n",
       "      <td>-0.005592</td>\n",
       "    </tr>\n",
       "    <tr>\n",
       "      <th>Yes</th>\n",
       "      <td>0.476777</td>\n",
       "      <td>0.084384</td>\n",
       "      <td>0.049782</td>\n",
       "      <td>0.196341</td>\n",
       "      <td>0.268094</td>\n",
       "      <td>0.171582</td>\n",
       "      <td>-0.081564</td>\n",
       "      <td>-0.007841</td>\n",
       "      <td>-0.776134</td>\n",
       "      <td>1.000000</td>\n",
       "      <td>0.049790</td>\n",
       "      <td>0.080753</td>\n",
       "      <td>0.095740</td>\n",
       "      <td>-0.452711</td>\n",
       "      <td>-0.047268</td>\n",
       "      <td>-0.070490</td>\n",
       "      <td>-0.280663</td>\n",
       "      <td>0.132549</td>\n",
       "      <td>0.006474</td>\n",
       "      <td>0.039414</td>\n",
       "    </tr>\n",
       "    <tr>\n",
       "      <th>Govt_job</th>\n",
       "      <td>-0.033807</td>\n",
       "      <td>0.026425</td>\n",
       "      <td>0.030216</td>\n",
       "      <td>-0.042649</td>\n",
       "      <td>0.031535</td>\n",
       "      <td>-0.212097</td>\n",
       "      <td>0.082137</td>\n",
       "      <td>0.030551</td>\n",
       "      <td>-0.021512</td>\n",
       "      <td>0.049790</td>\n",
       "      <td>1.000000</td>\n",
       "      <td>-0.277268</td>\n",
       "      <td>-0.101249</td>\n",
       "      <td>-0.078603</td>\n",
       "      <td>0.051667</td>\n",
       "      <td>0.050411</td>\n",
       "      <td>-0.012787</td>\n",
       "      <td>0.054076</td>\n",
       "      <td>0.103852</td>\n",
       "      <td>0.061487</td>\n",
       "    </tr>\n",
       "    <tr>\n",
       "      <th>Private</th>\n",
       "      <td>-0.055408</td>\n",
       "      <td>-0.002295</td>\n",
       "      <td>0.012722</td>\n",
       "      <td>0.010310</td>\n",
       "      <td>0.150059</td>\n",
       "      <td>-0.160701</td>\n",
       "      <td>0.026255</td>\n",
       "      <td>0.066044</td>\n",
       "      <td>-0.015451</td>\n",
       "      <td>0.080753</td>\n",
       "      <td>-0.277268</td>\n",
       "      <td>1.000000</td>\n",
       "      <td>-0.352521</td>\n",
       "      <td>-0.273676</td>\n",
       "      <td>0.062162</td>\n",
       "      <td>0.015179</td>\n",
       "      <td>-0.066691</td>\n",
       "      <td>0.033913</td>\n",
       "      <td>0.080477</td>\n",
       "      <td>0.115779</td>\n",
       "    </tr>\n",
       "    <tr>\n",
       "      <th>Self-employed</th>\n",
       "      <td>0.144592</td>\n",
       "      <td>0.129165</td>\n",
       "      <td>0.052886</td>\n",
       "      <td>-0.036906</td>\n",
       "      <td>0.036414</td>\n",
       "      <td>-0.134869</td>\n",
       "      <td>0.057753</td>\n",
       "      <td>0.017961</td>\n",
       "      <td>-0.076311</td>\n",
       "      <td>0.095740</td>\n",
       "      <td>-0.101249</td>\n",
       "      <td>-0.352521</td>\n",
       "      <td>1.000000</td>\n",
       "      <td>-0.099937</td>\n",
       "      <td>0.051733</td>\n",
       "      <td>0.035864</td>\n",
       "      <td>-0.030410</td>\n",
       "      <td>0.075591</td>\n",
       "      <td>0.068140</td>\n",
       "      <td>0.021294</td>\n",
       "    </tr>\n",
       "    <tr>\n",
       "      <th>children</th>\n",
       "      <td>-0.609351</td>\n",
       "      <td>-0.081208</td>\n",
       "      <td>-0.060859</td>\n",
       "      <td>-0.124389</td>\n",
       "      <td>-0.422691</td>\n",
       "      <td>-0.272180</td>\n",
       "      <td>0.019033</td>\n",
       "      <td>0.105138</td>\n",
       "      <td>0.583289</td>\n",
       "      <td>-0.452711</td>\n",
       "      <td>-0.078603</td>\n",
       "      <td>-0.273676</td>\n",
       "      <td>-0.099937</td>\n",
       "      <td>1.000000</td>\n",
       "      <td>0.073462</td>\n",
       "      <td>0.044780</td>\n",
       "      <td>0.520330</td>\n",
       "      <td>-0.091429</td>\n",
       "      <td>-0.113266</td>\n",
       "      <td>-0.090137</td>\n",
       "    </tr>\n",
       "    <tr>\n",
       "      <th>Rural</th>\n",
       "      <td>-0.150562</td>\n",
       "      <td>0.048155</td>\n",
       "      <td>-0.006802</td>\n",
       "      <td>-0.082251</td>\n",
       "      <td>-0.069255</td>\n",
       "      <td>-0.262670</td>\n",
       "      <td>0.096643</td>\n",
       "      <td>0.033011</td>\n",
       "      <td>0.121262</td>\n",
       "      <td>-0.047268</td>\n",
       "      <td>0.051667</td>\n",
       "      <td>0.062162</td>\n",
       "      <td>0.051733</td>\n",
       "      <td>0.073462</td>\n",
       "      <td>1.000000</td>\n",
       "      <td>-0.645851</td>\n",
       "      <td>0.081136</td>\n",
       "      <td>0.014262</td>\n",
       "      <td>0.132064</td>\n",
       "      <td>0.044741</td>\n",
       "    </tr>\n",
       "    <tr>\n",
       "      <th>Urban</th>\n",
       "      <td>-0.081697</td>\n",
       "      <td>-0.013269</td>\n",
       "      <td>0.026396</td>\n",
       "      <td>-0.028368</td>\n",
       "      <td>-0.018894</td>\n",
       "      <td>-0.178345</td>\n",
       "      <td>0.044196</td>\n",
       "      <td>0.016217</td>\n",
       "      <td>0.075160</td>\n",
       "      <td>-0.070490</td>\n",
       "      <td>0.050411</td>\n",
       "      <td>0.015179</td>\n",
       "      <td>0.035864</td>\n",
       "      <td>0.044780</td>\n",
       "      <td>-0.645851</td>\n",
       "      <td>1.000000</td>\n",
       "      <td>0.072329</td>\n",
       "      <td>0.024731</td>\n",
       "      <td>-0.003301</td>\n",
       "      <td>0.039304</td>\n",
       "    </tr>\n",
       "    <tr>\n",
       "      <th>Unknown</th>\n",
       "      <td>-0.440443</td>\n",
       "      <td>-0.085296</td>\n",
       "      <td>-0.009166</td>\n",
       "      <td>-0.118641</td>\n",
       "      <td>-0.256328</td>\n",
       "      <td>-0.333058</td>\n",
       "      <td>0.046571</td>\n",
       "      <td>0.118497</td>\n",
       "      <td>0.396948</td>\n",
       "      <td>-0.280663</td>\n",
       "      <td>-0.012787</td>\n",
       "      <td>-0.066691</td>\n",
       "      <td>-0.030410</td>\n",
       "      <td>0.520330</td>\n",
       "      <td>0.081136</td>\n",
       "      <td>0.072329</td>\n",
       "      <td>1.000000</td>\n",
       "      <td>-0.182985</td>\n",
       "      <td>-0.275969</td>\n",
       "      <td>-0.154096</td>\n",
       "    </tr>\n",
       "    <tr>\n",
       "      <th>formerly smoked</th>\n",
       "      <td>0.075806</td>\n",
       "      <td>0.018864</td>\n",
       "      <td>0.045343</td>\n",
       "      <td>0.013682</td>\n",
       "      <td>0.080687</td>\n",
       "      <td>-0.110864</td>\n",
       "      <td>-0.031065</td>\n",
       "      <td>0.093129</td>\n",
       "      <td>-0.068124</td>\n",
       "      <td>0.132549</td>\n",
       "      <td>0.054076</td>\n",
       "      <td>0.033913</td>\n",
       "      <td>0.075591</td>\n",
       "      <td>-0.091429</td>\n",
       "      <td>0.014262</td>\n",
       "      <td>0.024731</td>\n",
       "      <td>-0.182985</td>\n",
       "      <td>1.000000</td>\n",
       "      <td>-0.230326</td>\n",
       "      <td>-0.128610</td>\n",
       "    </tr>\n",
       "    <tr>\n",
       "      <th>never smoked</th>\n",
       "      <td>-0.055514</td>\n",
       "      <td>0.106961</td>\n",
       "      <td>-0.012151</td>\n",
       "      <td>-0.050547</td>\n",
       "      <td>0.045865</td>\n",
       "      <td>-0.257500</td>\n",
       "      <td>0.160925</td>\n",
       "      <td>-0.034406</td>\n",
       "      <td>0.038255</td>\n",
       "      <td>0.006474</td>\n",
       "      <td>0.103852</td>\n",
       "      <td>0.080477</td>\n",
       "      <td>0.068140</td>\n",
       "      <td>-0.113266</td>\n",
       "      <td>0.132064</td>\n",
       "      <td>-0.003301</td>\n",
       "      <td>-0.275969</td>\n",
       "      <td>-0.230326</td>\n",
       "      <td>1.000000</td>\n",
       "      <td>-0.193962</td>\n",
       "    </tr>\n",
       "    <tr>\n",
       "      <th>smokes</th>\n",
       "      <td>-0.085683</td>\n",
       "      <td>0.036536</td>\n",
       "      <td>0.041458</td>\n",
       "      <td>-0.044232</td>\n",
       "      <td>0.060685</td>\n",
       "      <td>-0.181953</td>\n",
       "      <td>0.024729</td>\n",
       "      <td>0.050498</td>\n",
       "      <td>-0.005592</td>\n",
       "      <td>0.039414</td>\n",
       "      <td>0.061487</td>\n",
       "      <td>0.115779</td>\n",
       "      <td>0.021294</td>\n",
       "      <td>-0.090137</td>\n",
       "      <td>0.044741</td>\n",
       "      <td>0.039304</td>\n",
       "      <td>-0.154096</td>\n",
       "      <td>-0.128610</td>\n",
       "      <td>-0.193962</td>\n",
       "      <td>1.000000</td>\n",
       "    </tr>\n",
       "  </tbody>\n",
       "</table>\n",
       "</div>"
      ],
      "text/plain": [
       "                        age  hypertension  heart_disease  avg_glucose_level  \\\n",
       "age                1.000000      0.141962       0.137189           0.264680   \n",
       "hypertension       0.141962      1.000000       0.049925           0.083141   \n",
       "heart_disease      0.137189      0.049925       1.000000           0.169629   \n",
       "avg_glucose_level  0.264680      0.083141       0.169629           1.000000   \n",
       "bmi                0.245217      0.120390       0.059207           0.292052   \n",
       "stroke             0.581984     -0.037154      -0.002184           0.244363   \n",
       "Female            -0.131731      0.006381      -0.079523          -0.180378   \n",
       "Male              -0.128717      0.033449       0.092996           0.038297   \n",
       "No                -0.675449     -0.083021      -0.065831          -0.187830   \n",
       "Yes                0.476777      0.084384       0.049782           0.196341   \n",
       "Govt_job          -0.033807      0.026425       0.030216          -0.042649   \n",
       "Private           -0.055408     -0.002295       0.012722           0.010310   \n",
       "Self-employed      0.144592      0.129165       0.052886          -0.036906   \n",
       "children          -0.609351     -0.081208      -0.060859          -0.124389   \n",
       "Rural             -0.150562      0.048155      -0.006802          -0.082251   \n",
       "Urban             -0.081697     -0.013269       0.026396          -0.028368   \n",
       "Unknown           -0.440443     -0.085296      -0.009166          -0.118641   \n",
       "formerly smoked    0.075806      0.018864       0.045343           0.013682   \n",
       "never smoked      -0.055514      0.106961      -0.012151          -0.050547   \n",
       "smokes            -0.085683      0.036536       0.041458          -0.044232   \n",
       "\n",
       "                        bmi    stroke    Female      Male        No       Yes  \\\n",
       "age                0.245217  0.581984 -0.131731 -0.128717 -0.675449  0.476777   \n",
       "hypertension       0.120390 -0.037154  0.006381  0.033449 -0.083021  0.084384   \n",
       "heart_disease      0.059207 -0.002184 -0.079523  0.092996 -0.065831  0.049782   \n",
       "avg_glucose_level  0.292052  0.244363 -0.180378  0.038297 -0.187830  0.196341   \n",
       "bmi                1.000000  0.140845 -0.082749  0.012664 -0.331231  0.268094   \n",
       "stroke             0.140845  1.000000 -0.258254 -0.176730 -0.425583  0.171582   \n",
       "Female            -0.082749 -0.258254  1.000000 -0.645714  0.116489 -0.081564   \n",
       "Male               0.012664 -0.176730 -0.645714  1.000000  0.085210 -0.007841   \n",
       "No                -0.331231 -0.425583  0.116489  0.085210  1.000000 -0.776134   \n",
       "Yes                0.268094  0.171582 -0.081564 -0.007841 -0.776134  1.000000   \n",
       "Govt_job           0.031535 -0.212097  0.082137  0.030551 -0.021512  0.049790   \n",
       "Private            0.150059 -0.160701  0.026255  0.066044 -0.015451  0.080753   \n",
       "Self-employed      0.036414 -0.134869  0.057753  0.017961 -0.076311  0.095740   \n",
       "children          -0.422691 -0.272180  0.019033  0.105138  0.583289 -0.452711   \n",
       "Rural             -0.069255 -0.262670  0.096643  0.033011  0.121262 -0.047268   \n",
       "Urban             -0.018894 -0.178345  0.044196  0.016217  0.075160 -0.070490   \n",
       "Unknown           -0.256328 -0.333058  0.046571  0.118497  0.396948 -0.280663   \n",
       "formerly smoked    0.080687 -0.110864 -0.031065  0.093129 -0.068124  0.132549   \n",
       "never smoked       0.045865 -0.257500  0.160925 -0.034406  0.038255  0.006474   \n",
       "smokes             0.060685 -0.181953  0.024729  0.050498 -0.005592  0.039414   \n",
       "\n",
       "                   Govt_job   Private  Self-employed  children     Rural  \\\n",
       "age               -0.033807 -0.055408       0.144592 -0.609351 -0.150562   \n",
       "hypertension       0.026425 -0.002295       0.129165 -0.081208  0.048155   \n",
       "heart_disease      0.030216  0.012722       0.052886 -0.060859 -0.006802   \n",
       "avg_glucose_level -0.042649  0.010310      -0.036906 -0.124389 -0.082251   \n",
       "bmi                0.031535  0.150059       0.036414 -0.422691 -0.069255   \n",
       "stroke            -0.212097 -0.160701      -0.134869 -0.272180 -0.262670   \n",
       "Female             0.082137  0.026255       0.057753  0.019033  0.096643   \n",
       "Male               0.030551  0.066044       0.017961  0.105138  0.033011   \n",
       "No                -0.021512 -0.015451      -0.076311  0.583289  0.121262   \n",
       "Yes                0.049790  0.080753       0.095740 -0.452711 -0.047268   \n",
       "Govt_job           1.000000 -0.277268      -0.101249 -0.078603  0.051667   \n",
       "Private           -0.277268  1.000000      -0.352521 -0.273676  0.062162   \n",
       "Self-employed     -0.101249 -0.352521       1.000000 -0.099937  0.051733   \n",
       "children          -0.078603 -0.273676      -0.099937  1.000000  0.073462   \n",
       "Rural              0.051667  0.062162       0.051733  0.073462  1.000000   \n",
       "Urban              0.050411  0.015179       0.035864  0.044780 -0.645851   \n",
       "Unknown           -0.012787 -0.066691      -0.030410  0.520330  0.081136   \n",
       "formerly smoked    0.054076  0.033913       0.075591 -0.091429  0.014262   \n",
       "never smoked       0.103852  0.080477       0.068140 -0.113266  0.132064   \n",
       "smokes             0.061487  0.115779       0.021294 -0.090137  0.044741   \n",
       "\n",
       "                      Urban   Unknown  formerly smoked  never smoked    smokes  \n",
       "age               -0.081697 -0.440443         0.075806     -0.055514 -0.085683  \n",
       "hypertension      -0.013269 -0.085296         0.018864      0.106961  0.036536  \n",
       "heart_disease      0.026396 -0.009166         0.045343     -0.012151  0.041458  \n",
       "avg_glucose_level -0.028368 -0.118641         0.013682     -0.050547 -0.044232  \n",
       "bmi               -0.018894 -0.256328         0.080687      0.045865  0.060685  \n",
       "stroke            -0.178345 -0.333058        -0.110864     -0.257500 -0.181953  \n",
       "Female             0.044196  0.046571        -0.031065      0.160925  0.024729  \n",
       "Male               0.016217  0.118497         0.093129     -0.034406  0.050498  \n",
       "No                 0.075160  0.396948        -0.068124      0.038255 -0.005592  \n",
       "Yes               -0.070490 -0.280663         0.132549      0.006474  0.039414  \n",
       "Govt_job           0.050411 -0.012787         0.054076      0.103852  0.061487  \n",
       "Private            0.015179 -0.066691         0.033913      0.080477  0.115779  \n",
       "Self-employed      0.035864 -0.030410         0.075591      0.068140  0.021294  \n",
       "children           0.044780  0.520330        -0.091429     -0.113266 -0.090137  \n",
       "Rural             -0.645851  0.081136         0.014262      0.132064  0.044741  \n",
       "Urban              1.000000  0.072329         0.024731     -0.003301  0.039304  \n",
       "Unknown            0.072329  1.000000        -0.182985     -0.275969 -0.154096  \n",
       "formerly smoked    0.024731 -0.182985         1.000000     -0.230326 -0.128610  \n",
       "never smoked      -0.003301 -0.275969        -0.230326      1.000000 -0.193962  \n",
       "smokes             0.039304 -0.154096        -0.128610     -0.193962  1.000000  "
      ]
     },
     "execution_count": 21,
     "metadata": {},
     "output_type": "execute_result"
    }
   ],
   "source": [
    "X_train.corr()"
   ]
  },
  {
   "cell_type": "code",
   "execution_count": 22,
   "id": "98a23abc",
   "metadata": {},
   "outputs": [],
   "source": [
    "import sklearn\n",
    "from sklearn.preprocessing import StandardScaler\n",
    "scalar=StandardScaler()"
   ]
  },
  {
   "cell_type": "code",
   "execution_count": 23,
   "id": "a105687a",
   "metadata": {},
   "outputs": [
    {
     "data": {
      "text/plain": [
       "['age',\n",
       " 'hypertension',\n",
       " 'heart_disease',\n",
       " 'avg_glucose_level',\n",
       " 'bmi',\n",
       " 'Female',\n",
       " 'Male',\n",
       " 'No',\n",
       " 'Yes',\n",
       " 'Govt_job',\n",
       " 'Private',\n",
       " 'Self-employed',\n",
       " 'children',\n",
       " 'Rural',\n",
       " 'Urban',\n",
       " 'Unknown',\n",
       " 'formerly smoked',\n",
       " 'never smoked',\n",
       " 'smokes']"
      ]
     },
     "execution_count": 23,
     "metadata": {},
     "output_type": "execute_result"
    }
   ],
   "source": [
    "scaling_feature=[feature for feature in X_train.columns if feature!='stroke']\n",
    "scaling_feature"
   ]
  },
  {
   "cell_type": "code",
   "execution_count": 24,
   "id": "6b4ed477",
   "metadata": {},
   "outputs": [
    {
     "data": {
      "text/plain": [
       "StandardScaler()"
      ]
     },
     "execution_count": 24,
     "metadata": {},
     "output_type": "execute_result"
    }
   ],
   "source": [
    "scalar.fit(X_train[scaling_feature])"
   ]
  },
  {
   "cell_type": "code",
   "execution_count": 25,
   "id": "08e88130",
   "metadata": {},
   "outputs": [
    {
     "data": {
      "text/html": [
       "<div>\n",
       "<style scoped>\n",
       "    .dataframe tbody tr th:only-of-type {\n",
       "        vertical-align: middle;\n",
       "    }\n",
       "\n",
       "    .dataframe tbody tr th {\n",
       "        vertical-align: top;\n",
       "    }\n",
       "\n",
       "    .dataframe thead th {\n",
       "        text-align: right;\n",
       "    }\n",
       "</style>\n",
       "<table border=\"1\" class=\"dataframe\">\n",
       "  <thead>\n",
       "    <tr style=\"text-align: right;\">\n",
       "      <th></th>\n",
       "      <th>age</th>\n",
       "      <th>hypertension</th>\n",
       "      <th>heart_disease</th>\n",
       "      <th>avg_glucose_level</th>\n",
       "      <th>bmi</th>\n",
       "      <th>Female</th>\n",
       "      <th>Male</th>\n",
       "      <th>No</th>\n",
       "      <th>Yes</th>\n",
       "      <th>Govt_job</th>\n",
       "      <th>Private</th>\n",
       "      <th>Self-employed</th>\n",
       "      <th>children</th>\n",
       "      <th>Rural</th>\n",
       "      <th>Urban</th>\n",
       "      <th>Unknown</th>\n",
       "      <th>formerly smoked</th>\n",
       "      <th>never smoked</th>\n",
       "      <th>smokes</th>\n",
       "    </tr>\n",
       "  </thead>\n",
       "  <tbody>\n",
       "    <tr>\n",
       "      <th>0</th>\n",
       "      <td>-1.094449</td>\n",
       "      <td>-0.291549</td>\n",
       "      <td>-0.226078</td>\n",
       "      <td>-0.176511</td>\n",
       "      <td>-0.008562</td>\n",
       "      <td>-0.914386</td>\n",
       "      <td>1.416084</td>\n",
       "      <td>-0.477535</td>\n",
       "      <td>0.615274</td>\n",
       "      <td>-0.282196</td>\n",
       "      <td>1.017776</td>\n",
       "      <td>-0.358788</td>\n",
       "      <td>-0.278541</td>\n",
       "      <td>-0.761694</td>\n",
       "      <td>1.179365</td>\n",
       "      <td>-0.468238</td>\n",
       "      <td>-0.390796</td>\n",
       "      <td>-0.589377</td>\n",
       "      <td>3.038614</td>\n",
       "    </tr>\n",
       "    <tr>\n",
       "      <th>1</th>\n",
       "      <td>0.493622</td>\n",
       "      <td>-0.291549</td>\n",
       "      <td>4.423259</td>\n",
       "      <td>-0.431908</td>\n",
       "      <td>0.075467</td>\n",
       "      <td>1.093631</td>\n",
       "      <td>-0.706173</td>\n",
       "      <td>-0.477535</td>\n",
       "      <td>0.615274</td>\n",
       "      <td>-0.282196</td>\n",
       "      <td>1.017776</td>\n",
       "      <td>-0.358788</td>\n",
       "      <td>-0.278541</td>\n",
       "      <td>-0.761694</td>\n",
       "      <td>1.179365</td>\n",
       "      <td>-0.468238</td>\n",
       "      <td>2.558881</td>\n",
       "      <td>-0.589377</td>\n",
       "      <td>-0.329097</td>\n",
       "    </tr>\n",
       "    <tr>\n",
       "      <th>2</th>\n",
       "      <td>0.584369</td>\n",
       "      <td>-0.291549</td>\n",
       "      <td>-0.226078</td>\n",
       "      <td>1.902424</td>\n",
       "      <td>1.369514</td>\n",
       "      <td>1.093631</td>\n",
       "      <td>-0.706173</td>\n",
       "      <td>-0.477535</td>\n",
       "      <td>0.615274</td>\n",
       "      <td>-0.282196</td>\n",
       "      <td>-0.982534</td>\n",
       "      <td>2.787163</td>\n",
       "      <td>-0.278541</td>\n",
       "      <td>-0.761694</td>\n",
       "      <td>1.179365</td>\n",
       "      <td>-0.468238</td>\n",
       "      <td>-0.390796</td>\n",
       "      <td>-0.589377</td>\n",
       "      <td>3.038614</td>\n",
       "    </tr>\n",
       "    <tr>\n",
       "      <th>3</th>\n",
       "      <td>-0.459220</td>\n",
       "      <td>-0.291549</td>\n",
       "      <td>-0.226078</td>\n",
       "      <td>-0.708285</td>\n",
       "      <td>-0.193426</td>\n",
       "      <td>1.093631</td>\n",
       "      <td>-0.706173</td>\n",
       "      <td>-0.477535</td>\n",
       "      <td>0.615274</td>\n",
       "      <td>3.543632</td>\n",
       "      <td>-0.982534</td>\n",
       "      <td>-0.358788</td>\n",
       "      <td>-0.278541</td>\n",
       "      <td>-0.761694</td>\n",
       "      <td>1.179365</td>\n",
       "      <td>-0.468238</td>\n",
       "      <td>-0.390796</td>\n",
       "      <td>1.696707</td>\n",
       "      <td>-0.329097</td>\n",
       "    </tr>\n",
       "    <tr>\n",
       "      <th>4</th>\n",
       "      <td>0.992730</td>\n",
       "      <td>-0.291549</td>\n",
       "      <td>-0.226078</td>\n",
       "      <td>-0.452705</td>\n",
       "      <td>-0.680794</td>\n",
       "      <td>1.093631</td>\n",
       "      <td>-0.706173</td>\n",
       "      <td>-0.477535</td>\n",
       "      <td>0.615274</td>\n",
       "      <td>-0.282196</td>\n",
       "      <td>1.017776</td>\n",
       "      <td>-0.358788</td>\n",
       "      <td>-0.278541</td>\n",
       "      <td>1.312863</td>\n",
       "      <td>-0.847914</td>\n",
       "      <td>-0.468238</td>\n",
       "      <td>2.558881</td>\n",
       "      <td>-0.589377</td>\n",
       "      <td>-0.329097</td>\n",
       "    </tr>\n",
       "  </tbody>\n",
       "</table>\n",
       "</div>"
      ],
      "text/plain": [
       "        age  hypertension  heart_disease  avg_glucose_level       bmi  \\\n",
       "0 -1.094449     -0.291549      -0.226078          -0.176511 -0.008562   \n",
       "1  0.493622     -0.291549       4.423259          -0.431908  0.075467   \n",
       "2  0.584369     -0.291549      -0.226078           1.902424  1.369514   \n",
       "3 -0.459220     -0.291549      -0.226078          -0.708285 -0.193426   \n",
       "4  0.992730     -0.291549      -0.226078          -0.452705 -0.680794   \n",
       "\n",
       "     Female      Male        No       Yes  Govt_job   Private  Self-employed  \\\n",
       "0 -0.914386  1.416084 -0.477535  0.615274 -0.282196  1.017776      -0.358788   \n",
       "1  1.093631 -0.706173 -0.477535  0.615274 -0.282196  1.017776      -0.358788   \n",
       "2  1.093631 -0.706173 -0.477535  0.615274 -0.282196 -0.982534       2.787163   \n",
       "3  1.093631 -0.706173 -0.477535  0.615274  3.543632 -0.982534      -0.358788   \n",
       "4  1.093631 -0.706173 -0.477535  0.615274 -0.282196  1.017776      -0.358788   \n",
       "\n",
       "   children     Rural     Urban   Unknown  formerly smoked  never smoked  \\\n",
       "0 -0.278541 -0.761694  1.179365 -0.468238        -0.390796     -0.589377   \n",
       "1 -0.278541 -0.761694  1.179365 -0.468238         2.558881     -0.589377   \n",
       "2 -0.278541 -0.761694  1.179365 -0.468238        -0.390796     -0.589377   \n",
       "3 -0.278541 -0.761694  1.179365 -0.468238        -0.390796      1.696707   \n",
       "4 -0.278541  1.312863 -0.847914 -0.468238         2.558881     -0.589377   \n",
       "\n",
       "     smokes  \n",
       "0  3.038614  \n",
       "1 -0.329097  \n",
       "2  3.038614  \n",
       "3 -0.329097  \n",
       "4 -0.329097  "
      ]
     },
     "execution_count": 25,
     "metadata": {},
     "output_type": "execute_result"
    }
   ],
   "source": [
    "X_train_transformed=pd.DataFrame(scalar.transform(X_train[scaling_feature]),columns=scaling_feature)\n",
    "X_train_transformed.head()"
   ]
  },
  {
   "cell_type": "code",
   "execution_count": 26,
   "id": "9c64ac3b",
   "metadata": {
    "scrolled": false
   },
   "outputs": [
    {
     "data": {
      "text/html": [
       "<div>\n",
       "<style scoped>\n",
       "    .dataframe tbody tr th:only-of-type {\n",
       "        vertical-align: middle;\n",
       "    }\n",
       "\n",
       "    .dataframe tbody tr th {\n",
       "        vertical-align: top;\n",
       "    }\n",
       "\n",
       "    .dataframe thead th {\n",
       "        text-align: right;\n",
       "    }\n",
       "</style>\n",
       "<table border=\"1\" class=\"dataframe\">\n",
       "  <thead>\n",
       "    <tr style=\"text-align: right;\">\n",
       "      <th></th>\n",
       "      <th>age</th>\n",
       "      <th>hypertension</th>\n",
       "      <th>heart_disease</th>\n",
       "      <th>avg_glucose_level</th>\n",
       "      <th>bmi</th>\n",
       "      <th>Female</th>\n",
       "      <th>Male</th>\n",
       "      <th>No</th>\n",
       "      <th>Yes</th>\n",
       "      <th>Govt_job</th>\n",
       "      <th>Private</th>\n",
       "      <th>Self-employed</th>\n",
       "      <th>children</th>\n",
       "      <th>Rural</th>\n",
       "      <th>Urban</th>\n",
       "      <th>Unknown</th>\n",
       "      <th>formerly smoked</th>\n",
       "      <th>never smoked</th>\n",
       "      <th>smokes</th>\n",
       "    </tr>\n",
       "  </thead>\n",
       "  <tbody>\n",
       "    <tr>\n",
       "      <th>0</th>\n",
       "      <td>0.176008</td>\n",
       "      <td>-0.291549</td>\n",
       "      <td>-0.226078</td>\n",
       "      <td>-0.880313</td>\n",
       "      <td>0.361166</td>\n",
       "      <td>-0.914386</td>\n",
       "      <td>1.416084</td>\n",
       "      <td>-0.477535</td>\n",
       "      <td>0.615274</td>\n",
       "      <td>3.543632</td>\n",
       "      <td>-0.982534</td>\n",
       "      <td>-0.358788</td>\n",
       "      <td>-0.278541</td>\n",
       "      <td>-0.761694</td>\n",
       "      <td>1.179365</td>\n",
       "      <td>-0.468238</td>\n",
       "      <td>-0.390796</td>\n",
       "      <td>1.696707</td>\n",
       "      <td>-0.329097</td>\n",
       "    </tr>\n",
       "    <tr>\n",
       "      <th>1</th>\n",
       "      <td>0.085261</td>\n",
       "      <td>-0.291549</td>\n",
       "      <td>-0.226078</td>\n",
       "      <td>-0.360397</td>\n",
       "      <td>0.159496</td>\n",
       "      <td>-0.914386</td>\n",
       "      <td>1.416084</td>\n",
       "      <td>-0.477535</td>\n",
       "      <td>0.615274</td>\n",
       "      <td>-0.282196</td>\n",
       "      <td>1.017776</td>\n",
       "      <td>-0.358788</td>\n",
       "      <td>-0.278541</td>\n",
       "      <td>1.312863</td>\n",
       "      <td>-0.847914</td>\n",
       "      <td>-0.468238</td>\n",
       "      <td>-0.390796</td>\n",
       "      <td>1.696707</td>\n",
       "      <td>-0.329097</td>\n",
       "    </tr>\n",
       "    <tr>\n",
       "      <th>2</th>\n",
       "      <td>1.128850</td>\n",
       "      <td>-0.291549</td>\n",
       "      <td>-0.226078</td>\n",
       "      <td>-0.259515</td>\n",
       "      <td>-1.672337</td>\n",
       "      <td>1.093631</td>\n",
       "      <td>-0.706173</td>\n",
       "      <td>-0.477535</td>\n",
       "      <td>0.615274</td>\n",
       "      <td>-0.282196</td>\n",
       "      <td>-0.982534</td>\n",
       "      <td>2.787163</td>\n",
       "      <td>-0.278541</td>\n",
       "      <td>1.312863</td>\n",
       "      <td>-0.847914</td>\n",
       "      <td>-0.468238</td>\n",
       "      <td>2.558881</td>\n",
       "      <td>-0.589377</td>\n",
       "      <td>-0.329097</td>\n",
       "    </tr>\n",
       "    <tr>\n",
       "      <th>3</th>\n",
       "      <td>0.629742</td>\n",
       "      <td>-0.291549</td>\n",
       "      <td>4.423259</td>\n",
       "      <td>1.460039</td>\n",
       "      <td>2.260222</td>\n",
       "      <td>1.093631</td>\n",
       "      <td>-0.706173</td>\n",
       "      <td>2.094087</td>\n",
       "      <td>-1.625292</td>\n",
       "      <td>-0.282196</td>\n",
       "      <td>1.017776</td>\n",
       "      <td>-0.358788</td>\n",
       "      <td>-0.278541</td>\n",
       "      <td>-0.761694</td>\n",
       "      <td>1.179365</td>\n",
       "      <td>-0.468238</td>\n",
       "      <td>-0.390796</td>\n",
       "      <td>-0.589377</td>\n",
       "      <td>3.038614</td>\n",
       "    </tr>\n",
       "    <tr>\n",
       "      <th>4</th>\n",
       "      <td>0.901983</td>\n",
       "      <td>-0.291549</td>\n",
       "      <td>-0.226078</td>\n",
       "      <td>-0.782715</td>\n",
       "      <td>1.436737</td>\n",
       "      <td>1.093631</td>\n",
       "      <td>-0.706173</td>\n",
       "      <td>-0.477535</td>\n",
       "      <td>0.615274</td>\n",
       "      <td>-0.282196</td>\n",
       "      <td>-0.982534</td>\n",
       "      <td>2.787163</td>\n",
       "      <td>-0.278541</td>\n",
       "      <td>1.312863</td>\n",
       "      <td>-0.847914</td>\n",
       "      <td>-0.468238</td>\n",
       "      <td>-0.390796</td>\n",
       "      <td>1.696707</td>\n",
       "      <td>-0.329097</td>\n",
       "    </tr>\n",
       "  </tbody>\n",
       "</table>\n",
       "</div>"
      ],
      "text/plain": [
       "        age  hypertension  heart_disease  avg_glucose_level       bmi  \\\n",
       "0  0.176008     -0.291549      -0.226078          -0.880313  0.361166   \n",
       "1  0.085261     -0.291549      -0.226078          -0.360397  0.159496   \n",
       "2  1.128850     -0.291549      -0.226078          -0.259515 -1.672337   \n",
       "3  0.629742     -0.291549       4.423259           1.460039  2.260222   \n",
       "4  0.901983     -0.291549      -0.226078          -0.782715  1.436737   \n",
       "\n",
       "     Female      Male        No       Yes  Govt_job   Private  Self-employed  \\\n",
       "0 -0.914386  1.416084 -0.477535  0.615274  3.543632 -0.982534      -0.358788   \n",
       "1 -0.914386  1.416084 -0.477535  0.615274 -0.282196  1.017776      -0.358788   \n",
       "2  1.093631 -0.706173 -0.477535  0.615274 -0.282196 -0.982534       2.787163   \n",
       "3  1.093631 -0.706173  2.094087 -1.625292 -0.282196  1.017776      -0.358788   \n",
       "4  1.093631 -0.706173 -0.477535  0.615274 -0.282196 -0.982534       2.787163   \n",
       "\n",
       "   children     Rural     Urban   Unknown  formerly smoked  never smoked  \\\n",
       "0 -0.278541 -0.761694  1.179365 -0.468238        -0.390796      1.696707   \n",
       "1 -0.278541  1.312863 -0.847914 -0.468238        -0.390796      1.696707   \n",
       "2 -0.278541  1.312863 -0.847914 -0.468238         2.558881     -0.589377   \n",
       "3 -0.278541 -0.761694  1.179365 -0.468238        -0.390796     -0.589377   \n",
       "4 -0.278541  1.312863 -0.847914 -0.468238        -0.390796      1.696707   \n",
       "\n",
       "     smokes  \n",
       "0 -0.329097  \n",
       "1 -0.329097  \n",
       "2 -0.329097  \n",
       "3  3.038614  \n",
       "4 -0.329097  "
      ]
     },
     "execution_count": 26,
     "metadata": {},
     "output_type": "execute_result"
    }
   ],
   "source": [
    "X_test_transformed=pd.DataFrame(scalar.transform(X_test[scaling_feature]),columns=scaling_feature)\n",
    "X_test_transformed.head()"
   ]
  },
  {
   "cell_type": "code",
   "execution_count": 27,
   "id": "de1ccc99",
   "metadata": {},
   "outputs": [
    {
     "data": {
      "text/plain": [
       "((8514, 19), (8514,))"
      ]
     },
     "execution_count": 27,
     "metadata": {},
     "output_type": "execute_result"
    }
   ],
   "source": [
    "X_train_transformed.shape,y_train.shape"
   ]
  },
  {
   "cell_type": "markdown",
   "id": "9b0b141e",
   "metadata": {},
   "source": [
    "## feature Selection"
   ]
  },
  {
   "cell_type": "code",
   "execution_count": 28,
   "id": "5a4725c7",
   "metadata": {},
   "outputs": [],
   "source": [
    "from sklearn.linear_model import Lasso\n",
    "from sklearn.feature_selection import SelectFromModel"
   ]
  },
  {
   "cell_type": "code",
   "execution_count": 29,
   "id": "d4dd7044",
   "metadata": {},
   "outputs": [
    {
     "data": {
      "text/plain": [
       "SelectFromModel(estimator=Lasso(alpha=0.005, random_state=0))"
      ]
     },
     "execution_count": 29,
     "metadata": {},
     "output_type": "execute_result"
    }
   ],
   "source": [
    "feature_select_model=SelectFromModel(Lasso(alpha=0.005,random_state=0))\n",
    "feature_select_model.fit(X_train_transformed,y_train)"
   ]
  },
  {
   "cell_type": "code",
   "execution_count": 30,
   "id": "c8c5ab66",
   "metadata": {},
   "outputs": [
    {
     "data": {
      "text/plain": [
       "array([ True,  True,  True,  True,  True,  True,  True,  True,  True,\n",
       "        True,  True,  True,  True,  True,  True,  True,  True,  True,\n",
       "        True])"
      ]
     },
     "execution_count": 30,
     "metadata": {},
     "output_type": "execute_result"
    }
   ],
   "source": [
    "feature_select_model.get_support()"
   ]
  },
  {
   "cell_type": "code",
   "execution_count": 31,
   "id": "080b6125",
   "metadata": {},
   "outputs": [
    {
     "data": {
      "text/plain": [
       "Index(['age', 'hypertension', 'heart_disease', 'avg_glucose_level', 'bmi',\n",
       "       'Female', 'Male', 'No', 'Yes', 'Govt_job', 'Private', 'Self-employed',\n",
       "       'children', 'Rural', 'Urban', 'Unknown', 'formerly smoked',\n",
       "       'never smoked', 'smokes'],\n",
       "      dtype='object')"
      ]
     },
     "execution_count": 31,
     "metadata": {},
     "output_type": "execute_result"
    }
   ],
   "source": [
    "selected_features=X_train_transformed.columns[(feature_select_model.get_support())]\n",
    "selected_features"
   ]
  },
  {
   "cell_type": "code",
   "execution_count": 32,
   "id": "ae1477e4",
   "metadata": {},
   "outputs": [
    {
     "name": "stdout",
     "output_type": "stream",
     "text": [
      "total features: 19\n",
      "selected features: 19\n"
     ]
    }
   ],
   "source": [
    "print('total features: {}'.format((X_train_transformed.shape[1])))\n",
    "print('selected features: {}'.format(len(selected_features)))\n",
    "# print('features with coefficients shrank to zero: {}'.format(\n",
    "#     np.sum(sel_.estimator_.coef_ == 0)))"
   ]
  },
  {
   "cell_type": "code",
   "execution_count": 33,
   "id": "9b6237b9",
   "metadata": {},
   "outputs": [],
   "source": [
    "X_train=X_train_transformed[selected_features]\n",
    "X_test=X_test_transformed[selected_features]"
   ]
  },
  {
   "cell_type": "markdown",
   "id": "9f68d03a",
   "metadata": {},
   "source": [
    "# Training model"
   ]
  },
  {
   "cell_type": "code",
   "execution_count": 34,
   "id": "9b009770",
   "metadata": {},
   "outputs": [],
   "source": [
    "from sklearn.linear_model import LogisticRegression\n",
    "from sklearn.neural_network import MLPClassifier\n",
    "from sklearn.model_selection import GridSearchCV"
   ]
  },
  {
   "cell_type": "code",
   "execution_count": 45,
   "id": "e679af57",
   "metadata": {},
   "outputs": [
    {
     "name": "stderr",
     "output_type": "stream",
     "text": [
      "C:\\ProgramData\\Anaconda3\\lib\\site-packages\\sklearn\\model_selection\\_validation.py:372: FitFailedWarning: \n",
      "140 fits failed out of a total of 280.\n",
      "The score on these train-test partitions for these parameters will be set to nan.\n",
      "If these failures are not expected, you can try to debug them by setting error_score='raise'.\n",
      "\n",
      "Below are more details about the failures:\n",
      "--------------------------------------------------------------------------------\n",
      "140 fits failed with the following error:\n",
      "Traceback (most recent call last):\n",
      "  File \"C:\\ProgramData\\Anaconda3\\lib\\site-packages\\sklearn\\model_selection\\_validation.py\", line 680, in _fit_and_score\n",
      "    estimator.fit(X_train, y_train, **fit_params)\n",
      "  File \"C:\\ProgramData\\Anaconda3\\lib\\site-packages\\sklearn\\linear_model\\_logistic.py\", line 1461, in fit\n",
      "    solver = _check_solver(self.solver, self.penalty, self.dual)\n",
      "  File \"C:\\ProgramData\\Anaconda3\\lib\\site-packages\\sklearn\\linear_model\\_logistic.py\", line 447, in _check_solver\n",
      "    raise ValueError(\n",
      "ValueError: Solver lbfgs supports only 'l2' or 'none' penalties, got l1 penalty.\n",
      "\n",
      "  warnings.warn(some_fits_failed_message, FitFailedWarning)\n",
      "C:\\ProgramData\\Anaconda3\\lib\\site-packages\\sklearn\\model_selection\\_search.py:969: UserWarning: One or more of the test scores are non-finite: [0.96171297        nan 0.96171297        nan 0.96171297        nan\n",
      " 0.96171297        nan 0.96194791        nan 0.96194791        nan\n",
      " 0.96194791        nan 0.96194791        nan 0.96194791        nan\n",
      " 0.96194791        nan 0.96194791        nan 0.96194791        nan\n",
      " 0.96194791        nan 0.96194791        nan 0.96194791        nan\n",
      " 0.96194791        nan 0.96171297        nan 0.96171297        nan\n",
      " 0.96171297        nan 0.96171297        nan 0.96194791        nan\n",
      " 0.96194791        nan 0.96194791        nan 0.96194791        nan\n",
      " 0.96183047        nan 0.96183047        nan 0.96183047        nan\n",
      " 0.96183047        nan]\n",
      "  warnings.warn(\n"
     ]
    },
    {
     "data": {
      "text/plain": [
       "GridSearchCV(estimator=LogisticRegression(random_state=0),\n",
       "             param_grid={'C': [1, 2, 3, 4, 1.5, 2.5, 9],\n",
       "                         'max_iter': [100, 500, 1000, 1500],\n",
       "                         'penalty': ['l2', 'l1']})"
      ]
     },
     "execution_count": 45,
     "metadata": {},
     "output_type": "execute_result"
    }
   ],
   "source": [
    "model=LogisticRegression(random_state=0)\n",
    "# model=MLPClassifier(solver='lbfgs',alpha=1e-5,hidden_layer_sizes=(1,),random_state=1)\n",
    "parameters={'penalty':['l2','l1'],'C':[1,2,3,4,1.5,2.5,9],'max_iter':[100,500,1000,1500]}\n",
    "clf=GridSearchCV(model,parameters)\n",
    "clf.fit(X_train,y_train)"
   ]
  },
  {
   "cell_type": "code",
   "execution_count": 48,
   "id": "98eb8ce9",
   "metadata": {},
   "outputs": [],
   "source": [
    "y_train_predict=clf.predict(X_train)\n",
    "y_test_predict=clf.predict(X_test)"
   ]
  },
  {
   "cell_type": "code",
   "execution_count": 52,
   "id": "3a79f1c3",
   "metadata": {},
   "outputs": [
    {
     "data": {
      "text/plain": [
       "{'cv': None,\n",
       " 'error_score': nan,\n",
       " 'estimator__C': 1.0,\n",
       " 'estimator__class_weight': None,\n",
       " 'estimator__dual': False,\n",
       " 'estimator__fit_intercept': True,\n",
       " 'estimator__intercept_scaling': 1,\n",
       " 'estimator__l1_ratio': None,\n",
       " 'estimator__max_iter': 100,\n",
       " 'estimator__multi_class': 'auto',\n",
       " 'estimator__n_jobs': None,\n",
       " 'estimator__penalty': 'l2',\n",
       " 'estimator__random_state': 0,\n",
       " 'estimator__solver': 'lbfgs',\n",
       " 'estimator__tol': 0.0001,\n",
       " 'estimator__verbose': 0,\n",
       " 'estimator__warm_start': False,\n",
       " 'estimator': LogisticRegression(random_state=0),\n",
       " 'n_jobs': None,\n",
       " 'param_grid': {'penalty': ['l2', 'l1'],\n",
       "  'C': [1, 2, 3, 4, 1.5, 2.5, 9],\n",
       "  'max_iter': [100, 500, 1000, 1500]},\n",
       " 'pre_dispatch': '2*n_jobs',\n",
       " 'refit': True,\n",
       " 'return_train_score': False,\n",
       " 'scoring': None,\n",
       " 'verbose': 0}"
      ]
     },
     "execution_count": 52,
     "metadata": {},
     "output_type": "execute_result"
    }
   ],
   "source": [
    "clf.get_params()"
   ]
  },
  {
   "cell_type": "code",
   "execution_count": 54,
   "id": "7bec6e1c",
   "metadata": {},
   "outputs": [
    {
     "data": {
      "text/plain": [
       "0.9619479138563107"
      ]
     },
     "execution_count": 54,
     "metadata": {},
     "output_type": "execute_result"
    }
   ],
   "source": [
    "clf.best_score_"
   ]
  },
  {
   "cell_type": "code",
   "execution_count": 55,
   "id": "9c019ea2",
   "metadata": {},
   "outputs": [
    {
     "data": {
      "text/plain": [
       "{'C': 2, 'max_iter': 100, 'penalty': 'l2'}"
      ]
     },
     "execution_count": 55,
     "metadata": {},
     "output_type": "execute_result"
    }
   ],
   "source": [
    "clf.best_params_"
   ]
  },
  {
   "cell_type": "code",
   "execution_count": 56,
   "id": "2326d4c6",
   "metadata": {},
   "outputs": [
    {
     "data": {
      "text/plain": [
       "0.9599198396793587"
      ]
     },
     "execution_count": 56,
     "metadata": {},
     "output_type": "execute_result"
    }
   ],
   "source": [
    "clf.score(X_test,y_test)"
   ]
  },
  {
   "cell_type": "code",
   "execution_count": 36,
   "id": "f4934899",
   "metadata": {},
   "outputs": [],
   "source": [
    "# y_train_predict=model.predict(X_train)\n",
    "# y_test_predict=model.predict(X_test)"
   ]
  },
  {
   "cell_type": "code",
   "execution_count": 74,
   "id": "e733dd82",
   "metadata": {},
   "outputs": [
    {
     "name": "stderr",
     "output_type": "stream",
     "text": [
      "C:\\ProgramData\\Anaconda3\\lib\\site-packages\\sklearn\\utils\\deprecation.py:87: FutureWarning: Function plot_confusion_matrix is deprecated; Function `plot_confusion_matrix` is deprecated in 1.0 and will be removed in 1.2. Use one of the class methods: ConfusionMatrixDisplay.from_predictions or ConfusionMatrixDisplay.from_estimator.\n",
      "  warnings.warn(msg, category=FutureWarning)\n"
     ]
    },
    {
     "data": {
      "image/png": "[encoded data removed]",
      "text/plain": [
       "<Figure size 432x288 with 2 Axes>"
      ]
     },
     "metadata": {
      "needs_background": "light"
     },
     "output_type": "display_data"
    }
   ],
   "source": [
    "# from sklearn.metrics import confusion_matrix, r2_score, accuracy_score\n",
    "from sklearn.metrics import confusion_matrix, precision_recall_curve, accuracy_score, plot_confusion_matrix\n",
    "cm = confusion_matrix(y_test, y_test_predict)\n",
    "plot_confusion_matrix(clf, X_test, y_test)  # Replace 'model', 'X', and 'y_true' with your model object, input features, and true labels\n",
    "plt.title('Confusion Matrix')\n",
    "plt.show()\n"
   ]
  },
  {
   "cell_type": "code",
   "execution_count": 77,
   "id": "1190d96a",
   "metadata": {},
   "outputs": [
    {
     "name": "stdout",
     "output_type": "stream",
     "text": [
      "Accuracy: 0.9599198396793587\n",
      "[0.04609218 1.         1.        ]\n",
      "[1.         0.13043478 0.        ]\n"
     ]
    },
    {
     "data": {
      "image/png": "[encoded data removed]",
      "text/plain": [
       "<Figure size 432x288 with 1 Axes>"
      ]
     },
     "metadata": {
      "needs_background": "light"
     },
     "output_type": "display_data"
    },
    {
     "data": {
      "text/plain": [
       "0    476\n",
       "1     23\n",
       "Name: stroke, dtype: int64"
      ]
     },
     "execution_count": 77,
     "metadata": {},
     "output_type": "execute_result"
    }
   ],
   "source": [
    "accuracy = accuracy_score(y_test, y_test_predict)\n",
    "print(f'Accuracy: {accuracy}')\n",
    "precision, recall, _ = precision_recall_curve(y_test, y_test_predict)\n",
    "print(precision)\n",
    "print(recall)\n",
    "plt.plot(recall, precision, marker='.')\n",
    "plt.xlabel('Recall')\n",
    "plt.ylabel('Precision')\n",
    "plt.title('Precision-Recall Curve')\n",
    "plt.show()\n",
    "y_test.value_counts()"
   ]
  },
  {
   "cell_type": "code",
   "execution_count": 63,
   "id": "4f546d04",
   "metadata": {
    "scrolled": true
   },
   "outputs": [
    {
     "data": {
      "image/png": "[encoded data removed]",
      "text/plain": [
       "<Figure size 432x288 with 2 Axes>"
      ]
     },
     "metadata": {
      "needs_background": "light"
     },
     "output_type": "display_data"
    },
    {
     "data": {
      "text/plain": [
       "array([[4250,    7],\n",
       "       [ 315, 3942]], dtype=int64)"
      ]
     },
     "execution_count": 63,
     "metadata": {},
     "output_type": "execute_result"
    }
   ],
   "source": [
    "conf_mat = confusion_matrix(y_true=y_train, y_pred=y_train_predict)\n",
    "labels = ['Class 0', 'Class 1']\n",
    "fig = plt.figure()\n",
    "ax = fig.add_subplot(111)\n",
    "cax = ax.matshow(conf_mat, cmap=plt.cm.Blues)\n",
    "fig.colorbar(cax)\n",
    "plt.xlabel('Predicted')\n",
    "plt.ylabel('Actual')\n",
    "plt.show()\n",
    "conf_mat"
   ]
  },
  {
   "cell_type": "code",
   "execution_count": 64,
   "id": "3418f4d7",
   "metadata": {},
   "outputs": [
    {
     "name": "stdout",
     "output_type": "stream",
     "text": [
      "TP: 3942 \n",
      "FP: 7 \n",
      "TN: 4250 \n",
      "FN: 315\n",
      "precision:  0.9982273993416054 \n",
      "recall:  0.9260042283298098\n",
      "F1_score:  0.9607604192054595\n"
     ]
    }
   ],
   "source": [
    "print('TP:', conf_mat[1][1], '\\nFP:', conf_mat[0][1], '\\nTN:', conf_mat[0][0], '\\nFN:', conf_mat[1][0], end='\\n')\n",
    "TP = conf_mat[1][1]\n",
    "FP = conf_mat[0][1]\n",
    "TN = conf_mat[0][0]\n",
    "FN = conf_mat[1][0]\n",
    "precision = TP/(TP+FP)\n",
    "recall = TP/(TP+FN)\n",
    "f1_score = 2*precision*recall/(precision+recall)\n",
    "print('precision: ', precision, '\\nrecall: ', recall)\n",
    "print('F1_score: ', f1_score)"
   ]
  },
  {
   "cell_type": "code",
   "execution_count": 60,
   "id": "6f4175a4",
   "metadata": {
    "scrolled": true
   },
   "outputs": [
    {
     "data": {
      "text/plain": [
       "0    476\n",
       "1     23\n",
       "Name: stroke, dtype: int64"
      ]
     },
     "execution_count": 60,
     "metadata": {},
     "output_type": "execute_result"
    }
   ],
   "source": [
    "y_test.value_counts()"
   ]
  },
  {
   "cell_type": "code",
   "execution_count": 61,
   "id": "ecd33e14",
   "metadata": {},
   "outputs": [],
   "source": [
    "from sklearn.metrics import precision_recall_fscore_support\n"
   ]
  },
  {
   "cell_type": "code",
   "execution_count": 62,
   "id": "740201ce",
   "metadata": {},
   "outputs": [
    {
     "data": {
      "text/plain": [
       "(0.9798387096774194, 0.5652173913043478, 0.605096549540994, None)"
      ]
     },
     "execution_count": 62,
     "metadata": {},
     "output_type": "execute_result"
    }
   ],
   "source": [
    "precision_recall_fscore_support(y_test,y_test_predict,average = 'macro')"
   ]
  },
  {
   "cell_type": "code",
   "execution_count": null,
   "id": "a619a8f5",
   "metadata": {},
   "outputs": [],
   "source": []
  },
  {
   "cell_type": "code",
   "execution_count": null,
   "id": "b87701ef",
   "metadata": {},
   "outputs": [],
   "source": []
  }
 ],
 "metadata": {
  "kernelspec": {
   "display_name": "Python 3 (ipykernel)",
   "language": "python",
   "name": "python3"
  },
  "language_info": {
   "codemirror_mode": {
    "name": "ipython",
    "version": 3
   },
   "file_extension": ".py",
   "mimetype": "text/x-python",
   "name": "python",
   "nbconvert_exporter": "python",
   "pygments_lexer": "ipython3",
   "version": "3.9.12"
  }
 },
 "nbformat": 4,
 "nbformat_minor": 5
}
